{
 "cells": [
  {
   "cell_type": "code",
   "execution_count": 17,
   "id": "093d7e2a",
   "metadata": {},
   "outputs": [],
   "source": [
    "list1 = list(range(1, 1000000, 2))"
   ]
  },
  {
   "cell_type": "code",
   "execution_count": 18,
   "id": "ec76904c",
   "metadata": {},
   "outputs": [],
   "source": [
    "import pickle"
   ]
  },
  {
   "cell_type": "code",
   "execution_count": 22,
   "id": "74ade45e",
   "metadata": {},
   "outputs": [],
   "source": [
    "with open(\"data.pickle\", \"wb\") as data:\n",
    "    pickle.dump(list1, data)"
   ]
  }
 ],
 "metadata": {
  "kernelspec": {
   "display_name": "Python 3 (ipykernel)",
   "language": "python",
   "name": "python3"
  },
  "language_info": {
   "codemirror_mode": {
    "name": "ipython",
    "version": 3
   },
   "file_extension": ".py",
   "mimetype": "text/x-python",
   "name": "python",
   "nbconvert_exporter": "python",
   "pygments_lexer": "ipython3",
   "version": "3.11.2"
  }
 },
 "nbformat": 4,
 "nbformat_minor": 5
}
